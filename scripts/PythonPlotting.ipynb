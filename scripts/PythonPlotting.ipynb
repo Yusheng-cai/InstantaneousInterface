{
 "cells": [
  {
   "cell_type": "code",
   "execution_count": null,
   "metadata": {},
   "outputs": [],
   "source": [
    "import numpy as np\n",
    "import matplotlib.pyplot as plt\n",
    "import MDAnalysis as mda\n",
    "import time\n",
    "from mpl_toolkits.mplot3d.art3d import Poly3DCollection\n",
    "\n",
    "from swipes.isosurface import isosurface\n",
    "import matplotlib.tri as mtri\n",
    "from skimage import measure\n",
    "\n",
    "import matplotlib\n",
    "%matplotlib notebook"
   ]
  },
  {
   "cell_type": "markdown",
   "metadata": {},
   "source": [
    "# Circle calculation"
   ]
  },
  {
   "cell_type": "code",
   "execution_count": null,
   "metadata": {},
   "outputs": [],
   "source": [
    "# Generate a level set about zero of two identical ellipsoids in 3D\n",
    "ellip_base = ellipsoid(5,5,5, levelset=True)\n",
    "\n",
    "\n",
    "# Use marching cubes to obtain the surface mesh of these ellipsoids\n",
    "verts, faces, normals, values = measure.marching_cubes_lewiner(ellip_base, 0,use_classic=True)\n",
    "\n",
    "\n",
    "# Display resulting triangular mesh using Matplotlib. This can also be done\n",
    "# with mayavi (see skimage.measure.marching_cubes_lewiner docstring).\n",
    "fig = plt.figure(figsize=(10, 10))\n",
    "ax = fig.add_subplot(111, projection='3d')\n",
    "\n",
    "\n",
    "# Fancy indexing: `verts[faces]` to generate a collection of triangles\n",
    "mesh = Poly3DCollection(verts[faces])\n",
    "mesh.set_edgecolor('k')\n",
    "ax.add_collection3d(mesh)\n",
    "\n",
    "\n",
    "ax.set_xlabel(\"x-axis: a = 6 per ellipsoid\")\n",
    "ax.set_ylabel(\"y-axis: b = 10\")\n",
    "ax.set_zlabel(\"z-axis: c = 16\")\n",
    "\n",
    "\n",
    "ax.set_xlim(0, 12)  # a = 6 (times two for 2nd ellipsoid)\n",
    "ax.set_ylim(0, 12)  # b = 10\n",
    "ax.set_zlim(0, 12)  # c = 16\n",
    "\n",
    "plt.tight_layout()\n",
    "plt.show()"
   ]
  },
  {
   "cell_type": "code",
   "execution_count": null,
   "metadata": {},
   "outputs": [],
   "source": [
    "# calculate triangle areas\n",
    "points = verts[faces]\n",
    "side1 = points[:,:,1] - points[:,:,0]\n",
    "side2 = points[:,:,0] - points[:,:,2]\n",
    "area = np.sqrt((np.cross(side1,side2)**2).sum(axis=1))/2\n",
    "\n",
    "\n",
    "vertex_neighbor_area = np.zeros((verts.shape[0],))\n",
    "vertex_matrix = np.zeros((verts.shape[0],3,3))\n",
    "\n",
    "for (i,val) in enumerate(points):\n",
    "    # index of the triangles in the vertex data\n",
    "    t = faces[i]\n",
    "    A = area[i]\n",
    "    print(i)\n",
    "    if A!= 0:\n",
    "        for j in range(3):\n",
    "            norm = normals[t[j]]\n",
    "            vert = verts[t[j]]\n",
    "            dyad = np.outer(norm, norm)\n",
    "            tangential = np.eye(3) - dyad\n",
    "            for k in range(3):\n",
    "                if (j != k):\n",
    "                    diff = vert - verts[t[k]]\n",
    "                    diffsq = (diff**2).sum()\n",
    "\n",
    "                    k = 2* np.dot(diff, norm)/diffsq\n",
    "                    T = np.dot(tangential, diff)\n",
    "                    T = T/np.sqrt((T**2).sum())\n",
    "\n",
    "                    matrix = A*k*np.outer(T,T)\n",
    "                    vertex_matrix[t[j]] += matrix         \n",
    "                    vertex_neighbor_area[t[j]] += A"
   ]
  },
  {
   "cell_type": "code",
   "execution_count": null,
   "metadata": {},
   "outputs": [],
   "source": [
    "ix = 156\n",
    "\n",
    "q = vertex_matrix[ix]/vertex_neighbor_area[ix]\n",
    "print(q)\n",
    "E = np.array([1,0,0])\n",
    "\n",
    "norm1 = ((E - normals[ix])**2).sum()\n",
    "norm2 = ((E + normals[ix])**2).sum()\n",
    "\n",
    "if (norm2 > norm1):\n",
    "    sign = 1\n",
    "else:\n",
    "    sign = -1\n",
    "    \n",
    "W = E + sign*normals[ix]\n",
    "W = W / np.sqrt((W**2).sum())\n",
    "Q = np.eye(3) - 2*np.outer(W,W)\n",
    "l = Q.T.dot(q).dot(Q)\n",
    "sub = l[1:,1:]\n",
    "eig,eigv = np.linalg.eig(sub)\n",
    "k1 = 3*eig[1] - eig[0]\n",
    "k2 = 3*eig[0] - eig[1]\n",
    "print(\"k1 = \", k1)\n",
    "print(\"k2 = \", k2)\n",
    "print(\"mean curvature = \", 1/2*(k1+k2))"
   ]
  },
  {
   "cell_type": "markdown",
   "metadata": {},
   "source": [
    "# AFP calculations"
   ]
  },
  {
   "cell_type": "code",
   "execution_count": null,
   "metadata": {},
   "outputs": [],
   "source": [
    "f = open(\"test.out\",\"r\")\n",
    "lines = f.readlines()\n",
    "data = lines[0].split()\n",
    "data = [float(a) for a in data]\n",
    "f.close()\n",
    "fielddata = data\n",
    "\n",
    "f = open(\"vertex.out\",\"r\")\n",
    "lines = f.readlines()\n",
    "lines = [l.lstrip().rstrip(\"\\n\").split() for l in lines]\n",
    "lines = np.array([[float(k) for k in l] for l in lines])\n",
    "f.close()\n",
    "vertices = lines\n",
    "\n",
    "f = open(\"triangle.out\",\"r\")\n",
    "lines = f.readlines()\n",
    "lines = [l.lstrip().rstrip(\"\\n\").split() for l in lines]\n",
    "lines = np.array([[int(k) for k in l] for l in lines])\n",
    "f.close()\n",
    "triangle_indices = lines\n",
    "\n",
    "f = open(\"normals.out\",\"r\")\n",
    "lines = f.readlines()\n",
    "lines = [[float(f) for f in l.lstrip(\"\\n\").split()] for l in lines]\n",
    "f.close()\n",
    "normals = np.array(lines)\n",
    "\n",
    "f = open(\"curve.out\",\"r\")\n",
    "lines = f.readlines()\n",
    "lines = [float(l.lstrip(\"\\n\")) for l in lines]\n",
    "f.close()\n",
    "curvedata = np.array(lines)"
   ]
  },
  {
   "cell_type": "code",
   "execution_count": null,
   "metadata": {},
   "outputs": [],
   "source": [
    "Nx, Ny, Nz = 50, 50, 50\n",
    "field = np.zeros((Nx, Ny, Nz))\n",
    "for i in range(Nx):\n",
    "    for j in range(Ny):\n",
    "        for k in range(Nz):\n",
    "            field[i,j,k] = fielddata[k*Nx*Ny + j*Nx + i]"
   ]
  },
  {
   "cell_type": "code",
   "execution_count": null,
   "metadata": {},
   "outputs": [],
   "source": [
    "points = vertices[triangle_indices]\n",
    "# Display resulting triangular mesh using Matplotlib. This can also be done\n",
    "# with mayavi (see skimage.measure.marching_cubes_lewiner docstring).\n",
    "fig = plt.figure(figsize=(10, 10))\n",
    "ax = fig.add_subplot(111, projection='3d')\n",
    "\n",
    "# Fancy indexing: `verts[faces]` to generate a collection of triangles\n",
    "mesh = Poly3DCollection(points)\n",
    "mesh.set_edgecolor('k')\n",
    "ax.add_collection3d(mesh)\n",
    "\n",
    "ax.set_xlabel(\"x-axis: a = 6 per ellipsoid\")\n",
    "ax.set_ylabel(\"y-axis: b = 10\")\n",
    "ax.set_zlabel(\"z-axis: c = 16\")\n",
    "\n",
    "ax.set_xlim(0, 10)  # a = 6 (times two for 2nd ellipsoid)\n",
    "ax.set_ylim(0, 10)  # b = 10\n",
    "ax.set_zlim(0, 10)  # c = 16\n",
    "\n",
    "plt.tight_layout()\n",
    "plt.show()"
   ]
  },
  {
   "cell_type": "code",
   "execution_count": null,
   "metadata": {},
   "outputs": [],
   "source": [
    "idx = np.argwhere(vertices[:,0] >3.2)\n",
    "idx = idx.flatten()\n",
    "curve_select = curvedata[idx]\n",
    "vert_select = vertices[idx]\n",
    "\n",
    "points = vertices[triangle_indices]\n",
    "p = points.reshape(-1,3)\n",
    "\n",
    "fig = plt.figure()\n",
    "ax = plt.axes(projection ='3d')  \n",
    "\n",
    "m = ax.scatter(vert_select[:,0],vert_select[:,1],vert_select[:,2],vmin=0, vmax=5, c=np.abs(curve_select),cmap='RdBu')\n",
    "ax.set_xlim(0,10)\n",
    "cbar = fig.colorbar(m)"
   ]
  },
  {
   "cell_type": "code",
   "execution_count": null,
   "metadata": {},
   "outputs": [],
   "source": [
    "neighbors = [[] for _ in range(vertices.shape[0])]\n",
    "curvatureVal = [[] for _ in range(vertices.shape[0])]\n",
    "curvaturevalue = np.ones((vertices.shape[0],))\n",
    "neighbornums = np.zeros((vertices.shape[0],))\n",
    "\n",
    "for i in range(triangle_indices.shape[0]):\n",
    "    t = triangle_indices[i]\n",
    "    \n",
    "    for j in range(3):\n",
    "        i1 = t[j]\n",
    "        for k in range(j+1,3):\n",
    "            i2 = t[k]\n",
    "            if i2 not in neighbors[i1]:\n",
    "                diff = vertices[i1] - vertices[i2]\n",
    "                diffsq = (diff**2).sum()\n",
    "\n",
    "                n1 = normals[i1]\n",
    "                n2 = normals[i2]\n",
    "\n",
    "                diffn = n1 - n2\n",
    "\n",
    "                dotproduct = np.dot(diffn, diff)\n",
    "                val = dotproduct/diffsq\n",
    "\n",
    "                curvatureVal[i1].append(val)\n",
    "                curvatureVal[i2].append(val)\n",
    "                neighbors[i1].append(i2)\n",
    "                neighbors[i2].append(i1)\n",
    "                neighbornums[i1] += 1\n",
    "                neighbornums[i2] += 1\n",
    "                curvaturevalue[i1] *= abs(val)\n",
    "                curvaturevalue[i2] *= abs(val)\n",
    "curvaturevalue = curvaturevalue**(1/neighbornums)"
   ]
  },
  {
   "cell_type": "code",
   "execution_count": null,
   "metadata": {},
   "outputs": [],
   "source": [
    "ix = np.argwhere(vertices[:,0] > 3.2)\n",
    "c = curvaturevalue[ix]"
   ]
  },
  {
   "cell_type": "code",
   "execution_count": null,
   "metadata": {},
   "outputs": [],
   "source": [
    "curvatureVal"
   ]
  },
  {
   "cell_type": "code",
   "execution_count": null,
   "metadata": {},
   "outputs": [],
   "source": [
    "triangle_indices[12270]"
   ]
  },
  {
   "cell_type": "code",
   "execution_count": null,
   "metadata": {},
   "outputs": [],
   "source": [
    "np.argwhere(triangle_indices == 6236)"
   ]
  },
  {
   "cell_type": "code",
   "execution_count": null,
   "metadata": {},
   "outputs": [],
   "source": [
    "vertices[6236]"
   ]
  },
  {
   "cell_type": "code",
   "execution_count": null,
   "metadata": {},
   "outputs": [],
   "source": [
    "normals[6236]"
   ]
  },
  {
   "cell_type": "code",
   "execution_count": null,
   "metadata": {},
   "outputs": [],
   "source": [
    "# calculate triangle areas\n",
    "points = vertices[triangle_indices]\n",
    "side1 = points[:,:,1] - points[:,:,0]\n",
    "side2 = points[:,:,0] - points[:,:,2]\n",
    "area = np.sqrt((np.cross(side1,side2)**2).sum(axis=1))/2\n",
    "\n",
    "\n",
    "vertex_neighbor_area = np.zeros((vertices.shape[0],))\n",
    "vertex_matrix = np.zeros((vertices.shape[0],3,3))\n",
    "\n",
    "for (i,val) in enumerate(points):\n",
    "    # index of the triangles in the vertex data\n",
    "    t = triangle_indices[i]\n",
    "    A = area[i]\n",
    "    print(i)\n",
    "    for j in range(3):\n",
    "        norm = normals[t[j]]\n",
    "        vert = vertices[t[j]]\n",
    "        dyad = np.outer(norm, norm)\n",
    "        tangential = np.eye(3) - dyad\n",
    "        for k in range(3):\n",
    "            if (j != k):\n",
    "                diff = vert - vertices[t[k]]\n",
    "                diffsq = (diff**2).sum()\n",
    "                \n",
    "                k = 2* np.dot(diff, norm)/diffsq\n",
    "                T = np.dot(tangential, diff)\n",
    "                T = T/np.sqrt((T**2).sum())\n",
    "                \n",
    "                matrix = A*k*np.outer(T,T)\n",
    "                vertex_matrix[t[j]] += matrix         \n",
    "                vertex_neighbor_area[t[j]] += A"
   ]
  },
  {
   "cell_type": "code",
   "execution_count": null,
   "metadata": {},
   "outputs": [],
   "source": [
    "idx[50]"
   ]
  },
  {
   "cell_type": "code",
   "execution_count": null,
   "metadata": {},
   "outputs": [],
   "source": [
    "vertices[50]"
   ]
  },
  {
   "cell_type": "code",
   "execution_count": null,
   "metadata": {},
   "outputs": [],
   "source": [
    "idx = np.argwhere(vertices[:,0] > 7)"
   ]
  },
  {
   "cell_type": "code",
   "execution_count": null,
   "metadata": {},
   "outputs": [],
   "source": [
    "ix = 50\n",
    "\n",
    "l = vertex_matrix[ix]/vertex_neighbor_area[ix]\n",
    "x = np.array([1,0,0])\n",
    "E1 = (x - normals[ix])\n",
    "E1 = E1/np.sqrt((E1**2).sum())\n",
    "Q = np.eye(3) - 2*np.outer(E1,E1)\n",
    "res = (Q.T).dot(l).dot(Q)\n",
    "eigv, eigvec = np.linalg.eig(res[1:,1:])\n",
    "k1 = 3*eigv[0] - eigv[1]\n",
    "k2 = 3*eigv[1] - eigv[0]\n",
    "print(\"k1 = \", k1)\n",
    "print(\"k2 = \", k2)"
   ]
  },
  {
   "cell_type": "code",
   "execution_count": null,
   "metadata": {},
   "outputs": [],
   "source": [
    "np.linalg.eig(l)"
   ]
  }
 ],
 "metadata": {
  "kernelspec": {
   "display_name": "Python 3",
   "language": "python",
   "name": "python3"
  },
  "language_info": {
   "codemirror_mode": {
    "name": "ipython",
    "version": 3
   },
   "file_extension": ".py",
   "mimetype": "text/x-python",
   "name": "python",
   "nbconvert_exporter": "python",
   "pygments_lexer": "ipython3",
   "version": "3.7.6"
  }
 },
 "nbformat": 4,
 "nbformat_minor": 4
}

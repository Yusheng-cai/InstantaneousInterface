{
 "cells": [
  {
   "cell_type": "code",
   "execution_count": null,
   "metadata": {},
   "outputs": [],
   "source": [
    "import numpy as np\n",
    "import matplotlib.pyplot as plt\n",
    "import MDAnalysis as mda\n",
    "import time\n",
    "from mpl_toolkits.mplot3d.art3d import Poly3DCollection\n",
    "\n",
    "from swipes.isosurface import isosurface\n",
    "import matplotlib.tri as mtri\n",
    "from skimage import measure\n",
    "\n",
    "from skimage.draw import ellipsoid\n",
    "import matplotlib\n",
    "from scipy.sparse import csr_matrix\n",
    "from scipy.sparse.csgraph import floyd_warshall\n",
    "from scipy.optimize import curve_fit\n",
    "%matplotlib notebook"
   ]
  },
  {
   "cell_type": "markdown",
   "metadata": {},
   "source": [
    "# Circle calculation"
   ]
  },
  {
   "cell_type": "code",
   "execution_count": null,
   "metadata": {},
   "outputs": [],
   "source": [
    "f = open(\"sample_sphere.ply\",\"r\")\n",
    "lines = f.readlines()\n",
    "lines = np.array([[float(f) for f in l.rstrip(\"\\n\").split()] for l in lines])\n",
    "f.close()\n",
    "coords = lines[:,:3]\n",
    "normals = lines[:,3:6]\n",
    "\n",
    "f = open(\"t.ply\",\"r\")\n",
    "lines = f.readlines()\n",
    "lines = np.array([[int(f) for f in l.rstrip(\"\\n\").split()] for l in lines])\n",
    "f.close()\n",
    "triangle_indices = lines[:,1:]"
   ]
  },
  {
   "cell_type": "code",
   "execution_count": null,
   "metadata": {
    "scrolled": false
   },
   "outputs": [],
   "source": [
    "# Generate a level set about zero of two identical ellipsoids in 3D\n",
    "ellip_base = ellipsoid(8,8,8, levelset=True)\n",
    "\n",
    "\n",
    "# Use marching cubes to obtain the surface mesh of these ellipsoids\n",
    "# verts, faces, normals, values = measure.marching_cubes_lewiner(ellip_base, 0)\n",
    "\n",
    "\n",
    "# Display resulting triangular mesh using Matplotlib. This can also be done\n",
    "# with mayavi (see skimage.measure.marching_cubes_lewiner docstring).\n",
    "fig = plt.figure(figsize=(10, 10))\n",
    "ax = fig.add_subplot(111, projection='3d')\n",
    "\n",
    "\n",
    "# Fancy indexing: `verts[faces]` to generate a collection of triangles\n",
    "mesh = Poly3DCollection(coords[triangle_indices])\n",
    "mesh.set_edgecolor('k')\n",
    "ax.add_collection3d(mesh)\n",
    "\n",
    "\n",
    "ax.set_xlabel(\"x-axis: a = 6 per ellipsoid\")\n",
    "ax.set_ylabel(\"y-axis: b = 10\")\n",
    "ax.set_zlabel(\"z-axis: c = 16\")\n",
    "\n",
    "\n",
    "ax.set_xlim(0, 12)  # a = 6 (times two for 2nd ellipsoid)\n",
    "ax.set_ylim(0, 12)  # b = 10\n",
    "ax.set_zlim(0, 12)  # c = 16\n",
    "\n",
    "plt.tight_layout()\n",
    "plt.show()"
   ]
  },
  {
   "cell_type": "markdown",
   "metadata": {},
   "source": [
    "# Least Squares solution"
   ]
  },
  {
   "cell_type": "code",
   "execution_count": null,
   "metadata": {},
   "outputs": [],
   "source": [
    "edge1 = coords[triangle_indices[:,2]] - coords[triangle_indices[:,1]]\n",
    "edge2 = coords[triangle_indices[:,0]] - coords[triangle_indices[:,2]]\n",
    "edge3 = coords[triangle_indices[:,1]] - coords[triangle_indices[:,0]]\n",
    "\n",
    "normaldiff0 = normals[triangle_indices[:,2]] - normals[triangle_indices[:,1]]\n",
    "normaldiff1 = normals[triangle_indices[:,0]] - normals[triangle_indices[:,2]]\n",
    "normaldiff2 = normals[triangle_indices[:,1]] - normals[triangle_indices[:,0]]\n",
    "\n",
    "# find per face coordinates\n",
    "U = edge1/np.sqrt((edge1**2).sum(axis=1,keepdims=True))\n",
    "N = np.cross(edge1, edge2)\n",
    "TriangleAreas = np.sqrt((N**2).sum(axis=1,keepdims=True))\n",
    "N = N/np.sqrt((N**2).sum(axis=1,keepdims=True))\n",
    "V = np.cross(U,N)\n",
    "\n",
    "# finding per vertex normals\n",
    "vertexnormals = np.zeros((coords.shape[0],3))\n",
    "for i in range(triangle_indices.shape[0]):\n",
    "    t = triangle_indices[i]\n",
    "    vertexnormals[t[0]] = coords[t[1]] - coords[t[0]]\n",
    "    vertexnormals[t[1]] = coords[t[2]] - coords[t[1]]\n",
    "    vertexnormals[t[2]] = coords[t[0]] - coords[t[2]]\n",
    "\n",
    "\n",
    "vertexnormals = np.cross(vertexnormals, normals)\n",
    "vertexnormals = vertexnormals/np.sqrt((vertexnormals**2).sum(axis=1,keepdims=True))\n",
    "vertexnormals2 = np.cross(vertexnormals, normals)\n",
    "\n",
    "matTot = np.zeros((triangle_indices.shape[0],3,3))\n",
    "for i in range(triangle_indices.shape[0]):\n",
    "    mat = np.zeros((3,3))\n",
    "    b = np.zeros((3,1))\n",
    "    \n",
    "    e1U = np.dot(edge1[i], U[i])\n",
    "    e2U = np.dot(edge2[i], U[i])\n",
    "    e3U = np.dot(edge3[i], U[i])\n",
    "    \n",
    "    eU = np.array([e1U, e2U, e3U])\n",
    "    #print(eU)\n",
    "    e1V = np.dot(edge1[i], V[i])\n",
    "    e2V = np.dot(edge2[i], V[i])\n",
    "    e3V = np.dot(edge3[i], V[i])\n",
    "    \n",
    "    eV = np.array([e1V, e2V, e3V])\n",
    "    #print(eV)\n",
    "    mat[0,0] = (eU*eU).sum()\n",
    "    mat[0,1] = (eU*eV).sum()\n",
    "    mat[2,2] = (eV*eV).sum()\n",
    "    \n",
    "    mat[1,1] = mat[0,0] + mat[2,2]\n",
    "    mat[1,0] = mat[0,1]\n",
    "    mat[1,2] = mat[0,1]\n",
    "    mat[2,1] = mat[1,2]\n",
    "    \n",
    "    \n",
    "    normD = np.vstack((normaldiff0[i], normaldiff1[i],normaldiff2[i]))\n",
    "\n",
    "    normDU = (normD*U[i]).sum(axis=1)\n",
    "    normDV = (normD*V[i]).sum(axis=1)\n",
    "    \n",
    "    b[0] = (normDU*eU).sum()\n",
    "    b[1] = (normDU*eV).sum() + (normDV*eU).sum()\n",
    "    b[2] = (normDV*eV).sum()\n",
    "    \n",
    "    invmat = np.linalg.inv(mat)\n",
    "    ans = np.dot(invmat, b)\n",
    "    \n",
    "    II = np.zeros((2,2))\n",
    "    II[0,0] = ans[0]\n",
    "    II[1,1] = ans[2]\n",
    "    II[1,0] = ans[1]\n",
    "    II[0,1] = ans[1]\n",
    "    \n",
    "    eig,eigv = np.linalg.eig(II)\n",
    "    print(eig)"
   ]
  },
  {
   "cell_type": "code",
   "execution_count": null,
   "metadata": {},
   "outputs": [],
   "source": []
  },
  {
   "cell_type": "code",
   "execution_count": null,
   "metadata": {},
   "outputs": [],
   "source": []
  },
  {
   "cell_type": "code",
   "execution_count": null,
   "metadata": {},
   "outputs": [],
   "source": []
  },
  {
   "cell_type": "code",
   "execution_count": null,
   "metadata": {},
   "outputs": [],
   "source": []
  },
  {
   "cell_type": "code",
   "execution_count": null,
   "metadata": {},
   "outputs": [],
   "source": []
  },
  {
   "cell_type": "code",
   "execution_count": null,
   "metadata": {},
   "outputs": [],
   "source": [
    "# calculate triangle areas\n",
    "points = coords[triangle_indices]\n",
    "side1 = points[:,1] - points[:,0]\n",
    "side2 = points[:,0] - points[:,2]\n",
    "area = np.sqrt((np.cross(side1,side2)**2).sum(axis=1))/2\n",
    "neighbors = [[] for _ in range(coords.shape[0])]\n",
    "\n",
    "vertex_neighbor_area = np.zeros((coords.shape[0],))\n",
    "vertex_matrix = np.zeros((coords.shape[0],3,3))\n",
    "\n",
    "for (i,val) in enumerate(points):\n",
    "    # index of the triangles in the vertex data\n",
    "    t = faces[i]\n",
    "    A = area[i]\n",
    "    print(i)\n",
    "    for j in range(3):\n",
    "        norm = normals[t[j]]\n",
    "        vert = coords[t[j]]\n",
    "        dyad = np.outer(norm, norm)\n",
    "        tangential = np.eye(3) - dyad\n",
    "        for k in range(3):\n",
    "            if (j != k):\n",
    "                if t[k] not in neighbors[t[j]]:\n",
    "                    diff =  coords[t[k]] - vert\n",
    "                    diffsq = (diff**2).sum()\n",
    "\n",
    "                    kappa = 2* np.dot(diff, norm)/diffsq\n",
    "                    T = np.dot(tangential, diff)\n",
    "                    T = T/np.sqrt((T**2).sum())\n",
    "\n",
    "                    matrix = A*kappa*np.outer(T,T)\n",
    "                    vertex_matrix[t[j]] += matrix         \n",
    "                    vertex_neighbor_area[t[j]] += A\n",
    "                    \n",
    "                    neighbors[t[j]].append(t[k])"
   ]
  },
  {
   "cell_type": "code",
   "execution_count": null,
   "metadata": {},
   "outputs": [],
   "source": [
    "Id = getNearbyIndicesTriangularMesh(coords,triangle_indices)\n",
    "N = findNeighborsNVertexAway(Id, 2)"
   ]
  },
  {
   "cell_type": "code",
   "execution_count": null,
   "metadata": {},
   "outputs": [],
   "source": [
    "vertex_neighbor_area[-1]"
   ]
  },
  {
   "cell_type": "code",
   "execution_count": null,
   "metadata": {},
   "outputs": [],
   "source": [
    "ix = 200\n",
    "\n",
    "q = vertex_matrix[ix]/vertex_neighbor_area[ix]\n",
    "print(q)\n",
    "E = np.array([1,0,0])\n",
    "\n",
    "norm1 = ((E - normals[ix])**2).sum()\n",
    "norm2 = ((E + normals[ix])**2).sum()\n",
    "\n",
    "if (norm2 > norm1):\n",
    "    sign = 1\n",
    "else:\n",
    "    sign = -1\n",
    "    \n",
    "W = E + sign*normals[ix]\n",
    "W = W / np.sqrt((W**2).sum())\n",
    "Q = np.eye(3) - 2*np.outer(W,W)\n",
    "l = Q.T.dot(q).dot(Q)\n",
    "sub = l[1:,1:]\n",
    "eig,eigv = np.linalg.eig(sub)\n",
    "k1 = 3*eig[1] - eig[0]\n",
    "k2 = 3*eig[0] - eig[1]\n",
    "print(\"eig0 = \", eig[0])\n",
    "print(\"eig1 = \", eig[1])\n",
    "print(\"k1 = \", k1)\n",
    "print(\"k2 = \", k2)\n",
    "print(\"mean curvature = \", 1/2*(k1+k2))"
   ]
  },
  {
   "cell_type": "code",
   "execution_count": null,
   "metadata": {},
   "outputs": [],
   "source": [
    "tri = [[] for _ in range(verts.shape[0])]\n",
    "\n",
    "for i in range(faces.shape[0]):\n",
    "    t = faces[i]\n",
    "    for j in range(3):\n",
    "        id1 = t[j]\n",
    "        for k in range(3):\n",
    "            if j != k:\n",
    "                id2 = t[k]\n",
    "                if id2 not in tri[id1]:\n",
    "                    tri[id1].append(id2)"
   ]
  },
  {
   "cell_type": "code",
   "execution_count": null,
   "metadata": {},
   "outputs": [],
   "source": [
    "for i in range(verts.shape[0]):\n",
    "    v = verts[i]\n",
    "    T = np.eye(3) - np.outer(normals[i], normals[i])\n",
    "    \n",
    "    for j in range(len(tri[i])):\n",
    "        diff = verts[tri[i][j]] - v\n",
    "        if diff.sum() != 0:\n",
    "            difftrans = np.dot(T, diff)\n",
    "            difftrans = difftrans/np.sqrt((difftrans**2).sum())\n",
    "            print(difftrans)"
   ]
  },
  {
   "cell_type": "markdown",
   "metadata": {},
   "source": [
    "## Circle Calculation sub part"
   ]
  },
  {
   "cell_type": "code",
   "execution_count": null,
   "metadata": {},
   "outputs": [],
   "source": [
    "def getNearbyIndicesTriangularMesh(coordinates, triangleID):\n",
    "    nearby_indices = [[] for _ in range(coordinates.shape[0])]\n",
    "    for i in range(triangleID.shape[0]):\n",
    "        t = triangle_indices[i]\n",
    "        for j in range(3):\n",
    "            id1 = t[j]\n",
    "            for k in range(3):\n",
    "                if j != k:\n",
    "                    id2 = t[k]\n",
    "                    if id2 not in nearby_indices[id1]:\n",
    "                        nearby_indices[id1].append(id2)\n",
    "    return nearby_indices"
   ]
  },
  {
   "cell_type": "code",
   "execution_count": null,
   "metadata": {},
   "outputs": [],
   "source": [
    "def findNeighborsNVertexAway(NearbyIndices, N:int):\n",
    "    Neighbors = [[] for _ in range(len(NearbyIndices))]\n",
    "    \n",
    "    for i in range(len(Neighbors)):\n",
    "        initial_count = 0\n",
    "        final_count = 0\n",
    "        for j in range(N):\n",
    "            if len(Neighbors[i]) == 0:\n",
    "                Neighbors[i] += NearbyIndices[i]\n",
    "                final_count = len(Neighbors[i])\n",
    "            else:\n",
    "                tempIndices = []\n",
    "                for k in range(initial_count, final_count):\n",
    "                    tempIndices += NearbyIndices[Neighbors[i][k]]\n",
    "                Neighbors[i] += tempIndices\n",
    "                intial_count = final_count\n",
    "                final_count = len(Neighbors[i])\n",
    "    return Neighbors\n",
    "\n",
    "def rotationMatrix(vec1, vec2):\n",
    "    \"\"\"\n",
    "    rotation matrix that rotates vec1 onto vec2\n",
    "    \"\"\"\n",
    "    vec1n  = vec1/np.sqrt((vec1**2).sum())\n",
    "    vec2n  = vec2/np.sqrt((vec2**2).sum())\n",
    "    cross = np.cross(vec1n, vec2n)\n",
    "    sin2 = (cross**2).sum()\n",
    "    if sin2 > 1e-10:\n",
    "        sine  = np.sqrt((cross**2).sum())\n",
    "    else:\n",
    "        return np.eye(3)\n",
    "    \n",
    "    cosine= np.dot(vec1n, vec2n)\n",
    "    \n",
    "    v = np.zeros((3,3))\n",
    "    v[0,1] = -cross[2]\n",
    "    v[0,2] = cross[1]\n",
    "    v[1,0] = cross[2]\n",
    "    v[1,2] = -cross[0]\n",
    "    v[2,0] = -cross[1]\n",
    "    v[2,1] = cross[0]\n",
    "\n",
    "    R = np.eye(3) + v + np.dot(v,v)*1/(1+cosine)\n",
    "    \n",
    "    return R\n",
    "\n",
    "def CalculateCurvature(vertices, triangle_indices, num_neighbors):\n",
    "    Id = getNearbyIndicesTriangularMesh(vertices, triangle_indices)\n",
    "    N = findNeighborsNVertexAway(Id, num_neighbors)\n",
    "    \n",
    "    mat = np.zeros((vertices.shape[0],2,2))\n",
    "    eig = np.zeros((vertices.shape[0],2))\n",
    "    \n",
    "    def SecondFundamentalForm(X, L, M, N):\n",
    "        dx = X[:,0]\n",
    "        dy = X[:,1]\n",
    "\n",
    "        return L*(dx**2)/2 + 2*M*(dx*dy) + N*dy**2/2\n",
    "    \n",
    "    for i in range(vertices.shape[0]):\n",
    "        neighbors = N[i]\n",
    "        neighborsnp = np.array(neighbors).astype(int)\n",
    "        neighborsnp = np.unique(neighborsnp)\n",
    "        print(neighborsnp)\n",
    "        verts = vertices[neighborsnp]\n",
    "        vert = vertices[i]\n",
    "\n",
    "        diff  = verts - vert\n",
    "        n = normals[i]\n",
    "        zaxis = np.array([0,0,1])\n",
    "        \n",
    "        R = rotationMatrix(n,zaxis)\n",
    "\n",
    "        trans = np.matmul(R,diff.T)\n",
    "        trans = trans.T\n",
    "        popt, pcov = curve_fit(SecondFundamentalForm, trans[:,:2],trans[:,2],)\n",
    "        mat[i][0,0] = popt[0]\n",
    "        mat[i][1,1] = popt[2]\n",
    "        mat[i][0,1] = popt[1]\n",
    "        mat[i][1,0] = popt[1]\n",
    "\n",
    "        e, ev = np.linalg.eig(mat[i])\n",
    "        eig[i,0] = e[0]\n",
    "        eig[i,1] = e[1]\n",
    "    return eig"
   ]
  },
  {
   "cell_type": "code",
   "execution_count": null,
   "metadata": {},
   "outputs": [],
   "source": [
    "CalculateCurvature(coords,triangle_indices,2)"
   ]
  },
  {
   "cell_type": "markdown",
   "metadata": {},
   "source": [
    "# AFP calculations"
   ]
  },
  {
   "cell_type": "code",
   "execution_count": null,
   "metadata": {},
   "outputs": [],
   "source": [
    "f = open(\"test5400.out\",\"r\")\n",
    "lines = f.readlines()\n",
    "data = lines[0].split()\n",
    "data = [float(a) for a in data]\n",
    "f.close()\n",
    "fielddata = data\n",
    "\n",
    "f = open(\"vertex5400.out\",\"r\")\n",
    "lines = f.readlines()\n",
    "lines = [l.lstrip().rstrip(\"\\n\").split() for l in lines]\n",
    "lines = np.array([[float(k) for k in l] for l in lines])\n",
    "f.close()\n",
    "vertices = lines\n",
    "\n",
    "f = open(\"triangle5400.out\",\"r\")\n",
    "lines = f.readlines()\n",
    "lines = [l.lstrip().rstrip(\"\\n\").split() for l in lines]\n",
    "lines = np.array([[int(k) for k in l] for l in lines])\n",
    "f.close()\n",
    "triangle_indices = lines\n",
    "\n",
    "f = open(\"normals5400.out\",\"r\")\n",
    "lines = f.readlines()\n",
    "lines = [[float(f) for f in l.lstrip(\"\\n\").split()] for l in lines]\n",
    "f.close()\n",
    "normals = np.array(lines)\n",
    "\n",
    "f = open(\"curve5400.out\",\"r\")\n",
    "lines = f.readlines()\n",
    "lines = [[float(f) for f in l.lstrip(\"\\n\").split()] for l in lines if not l.startswith(\"#\")]\n",
    "f.close()\n",
    "curvedata = np.array(lines)"
   ]
  },
  {
   "cell_type": "code",
   "execution_count": null,
   "metadata": {},
   "outputs": [],
   "source": [
    "cuve = CalculateCurvature(vertices, triangle_indices, 2)"
   ]
  },
  {
   "cell_type": "markdown",
   "metadata": {},
   "source": [
    "## Calculate using vertex fitting "
   ]
  },
  {
   "cell_type": "code",
   "execution_count": null,
   "metadata": {},
   "outputs": [],
   "source": [
    "curve_select = curvedata[vertices[:,0]>7]"
   ]
  },
  {
   "cell_type": "code",
   "execution_count": null,
   "metadata": {},
   "outputs": [],
   "source": [
    "points = vertices[triangle_indices]\n",
    "# Display resulting triangular mesh using Matplotlib. This can also be done\n",
    "# with mayavi (see skimage.measure.marching_cubes_lewiner docstring).\n",
    "fig = plt.figure(figsize=(10, 10))\n",
    "ax = fig.add_subplot(111, projection='3d')\n",
    "\n",
    "# Fancy indexing: `verts[faces]` to generate a collection of triangles\n",
    "mesh = Poly3DCollection(points)\n",
    "mesh.set_edgecolor('k')\n",
    "ax.add_collection3d(mesh)\n",
    "\n",
    "ax.set_xlabel(\"x-axis: a = 6 per ellipsoid\")\n",
    "ax.set_ylabel(\"y-axis: b = 10\")\n",
    "ax.set_zlabel(\"z-axis: c = 16\")\n",
    "\n",
    "ax.set_xlim(0, 10)  # a = 6 (times two for 2nd ellipsoid)\n",
    "ax.set_ylim(0, 10)  # b = 10\n",
    "ax.set_zlim(0, 10)  # c = 16\n",
    "\n",
    "plt.tight_layout()\n",
    "plt.show()"
   ]
  },
  {
   "cell_type": "code",
   "execution_count": null,
   "metadata": {},
   "outputs": [],
   "source": [
    "GCurve = curve_select[:,0] * curve_select[:,1]\n",
    "curve_select"
   ]
  },
  {
   "cell_type": "code",
   "execution_count": null,
   "metadata": {},
   "outputs": [],
   "source": [
    "np.abs(Gselect).mean()"
   ]
  },
  {
   "cell_type": "code",
   "execution_count": null,
   "metadata": {},
   "outputs": [],
   "source": [
    "idx = np.argwhere(vertices[:,0] >7)\n",
    "idx = idx.flatten()\n",
    "vert_select = vertices[idx]\n",
    "curve_select = curvedata[vertices[:,0]>7]\n",
    "points = vertices[triangle_indices]\n",
    "p = points.reshape(-1,3)\n",
    "\n",
    "fig = plt.figure()\n",
    "ax = plt.axes(projection ='3d')  \n",
    "\n",
    "Gselect = 1/2*(curve_select[:,0]+curve_select[:,1])\n",
    "\n",
    "m = ax.scatter(vert_select[:,0],vert_select[:,1],vert_select[:,2],vmin=0,vmax=1, c=np.abs(Gselect),cmap='RdBu')\n",
    "ax.set_xlim(0,10)\n",
    "cbar = fig.colorbar(m)"
   ]
  },
  {
   "cell_type": "code",
   "execution_count": null,
   "metadata": {},
   "outputs": [],
   "source": [
    "neighbors = [[] for _ in range(vertices.shape[0])]\n",
    "curvatureVal = [[] for _ in range(vertices.shape[0])]\n",
    "curvaturevalue = np.ones((vertices.shape[0],))\n",
    "neighbornums = np.zeros((vertices.shape[0],))\n",
    "\n",
    "for i in range(triangle_indices.shape[0]):\n",
    "    t = triangle_indices[i]\n",
    "    \n",
    "    for j in range(3):\n",
    "        i1 = t[j]\n",
    "        for k in range(j+1,3):\n",
    "            i2 = t[k]\n",
    "            if i2 not in neighbors[i1]:\n",
    "                diff = vertices[i1] - vertices[i2]\n",
    "                diffsq = (diff**2).sum()\n",
    "\n",
    "                n1 = normals[i1]\n",
    "                n2 = normals[i2]\n",
    "\n",
    "                diffn = n1 - n2\n",
    "\n",
    "                dotproduct = np.dot(diffn, diff)\n",
    "                val = dotproduct/diffsq\n",
    "\n",
    "                curvatureVal[i1].append(val)\n",
    "                curvatureVal[i2].append(val)\n",
    "                neighbors[i1].append(i2)\n",
    "                neighbors[i2].append(i1)\n",
    "                neighbornums[i1] += 1\n",
    "                neighbornums[i2] += 1\n",
    "                curvaturevalue[i1] *= abs(val)\n",
    "                curvaturevalue[i2] *= abs(val)\n",
    "curvaturevalue = curvaturevalue**(1/neighbornums)"
   ]
  },
  {
   "cell_type": "code",
   "execution_count": null,
   "metadata": {},
   "outputs": [],
   "source": [
    "ix = np.argwhere(vertices[:,0] > 3.2)\n",
    "c = curvaturevalue[ix]"
   ]
  },
  {
   "cell_type": "code",
   "execution_count": null,
   "metadata": {},
   "outputs": [],
   "source": [
    "curvatureVal"
   ]
  },
  {
   "cell_type": "code",
   "execution_count": null,
   "metadata": {},
   "outputs": [],
   "source": [
    "triangle_indices[12270]"
   ]
  },
  {
   "cell_type": "code",
   "execution_count": null,
   "metadata": {},
   "outputs": [],
   "source": [
    "np.argwhere(triangle_indices == 6236)"
   ]
  },
  {
   "cell_type": "code",
   "execution_count": null,
   "metadata": {},
   "outputs": [],
   "source": [
    "vertices[6236]"
   ]
  },
  {
   "cell_type": "code",
   "execution_count": null,
   "metadata": {},
   "outputs": [],
   "source": [
    "normals[6236]"
   ]
  },
  {
   "cell_type": "code",
   "execution_count": null,
   "metadata": {},
   "outputs": [],
   "source": [
    "# calculate triangle areas\n",
    "points = vertices[triangle_indices]\n",
    "side1 = points[:,1] - points[:,0]\n",
    "side2 = points[:,0] - points[:,2]\n",
    "area = np.sqrt((np.cross(side1,side2)**2).sum(axis=1))/2\n",
    "\n",
    "\n",
    "vertex_neighbor_area = np.zeros((vertices.shape[0],))\n",
    "vertex_matrix = np.zeros((vertices.shape[0],3,3))\n",
    "\n",
    "for (i,val) in enumerate(points):\n",
    "    # index of the triangles in the vertex data\n",
    "    t = triangle_indices[i]\n",
    "    A = area[i]\n",
    "    print(i)\n",
    "    for j in range(3):\n",
    "        norm = normals[t[j]]\n",
    "        vert = vertices[t[j]]\n",
    "        dyad = np.outer(norm, norm)\n",
    "        tangential = np.eye(3) - dyad\n",
    "        for k in range(3):\n",
    "            if (j != k):\n",
    "                diff = vertices[t[k]] - vert\n",
    "                diffsq = (diff**2).sum()\n",
    "                \n",
    "                k = 2* np.dot(diff, norm)/diffsq\n",
    "                T = np.dot(tangential, diff)\n",
    "                T = T/np.sqrt((T**2).sum())\n",
    "                \n",
    "                matrix = A*k*np.outer(T,T)\n",
    "                vertex_matrix[t[j]] += matrix         \n",
    "                vertex_neighbor_area[t[j]] += A"
   ]
  },
  {
   "cell_type": "code",
   "execution_count": null,
   "metadata": {},
   "outputs": [],
   "source": [
    "idx[50]"
   ]
  },
  {
   "cell_type": "code",
   "execution_count": null,
   "metadata": {},
   "outputs": [],
   "source": [
    "vertices[50]"
   ]
  },
  {
   "cell_type": "code",
   "execution_count": null,
   "metadata": {},
   "outputs": [],
   "source": [
    "idx = np.argwhere(vertices[:,0] > 3.2)"
   ]
  },
  {
   "cell_type": "code",
   "execution_count": null,
   "metadata": {},
   "outputs": [],
   "source": [
    "ix = 89\n",
    "\n",
    "l = vertex_matrix[ix]/vertex_neighbor_area[ix]\n",
    "x = np.array([1,0,0])\n",
    "E1 = (x - normals[ix])\n",
    "E1 = E1/np.sqrt((E1**2).sum())\n",
    "Q = np.eye(3) - 2*np.outer(E1,E1)\n",
    "res = (Q.T).dot(l).dot(Q)\n",
    "eigv, eigvec = np.linalg.eig(res[1:,1:])\n",
    "k1 = 3*eigv[0] - eigv[1]\n",
    "k2 = 3*eigv[1] - eigv[0]\n",
    "print(\"k1 = \", k1)\n",
    "print(\"k2 = \", k2)"
   ]
  },
  {
   "cell_type": "code",
   "execution_count": null,
   "metadata": {},
   "outputs": [],
   "source": [
    "np.linalg.eig(l)"
   ]
  }
 ],
 "metadata": {
  "kernelspec": {
   "display_name": "Python 3",
   "language": "python",
   "name": "python3"
  },
  "language_info": {
   "codemirror_mode": {
    "name": "ipython",
    "version": 3
   },
   "file_extension": ".py",
   "mimetype": "text/x-python",
   "name": "python",
   "nbconvert_exporter": "python",
   "pygments_lexer": "ipython3",
   "version": "3.7.6"
  }
 },
 "nbformat": 4,
 "nbformat_minor": 4
}
